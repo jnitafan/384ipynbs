{
 "metadata": {
  "language_info": {
   "codemirror_mode": {
    "name": "ipython",
    "version": 3
   },
   "file_extension": ".py",
   "mimetype": "text/x-python",
   "name": "python",
   "nbconvert_exporter": "python",
   "pygments_lexer": "ipython3",
   "version": "3.9.2-final"
  },
  "orig_nbformat": 2,
  "kernelspec": {
   "name": "python3",
   "display_name": "Python 3.9.2 64-bit",
   "metadata": {
    "interpreter": {
     "hash": "63fd5069d213b44bf678585dea6b12cceca9941eaf7f819626cde1f2670de90d"
    }
   }
  }
 },
 "nbformat": 4,
 "nbformat_minor": 2,
 "cells": [
  {
   "source": [
    "# to create a function, we use the def keyword\n",
    "def myfunction():\n",
    "    print(\"hello from a function\")\n",
    "\n",
    "myfunction()\n",
    "\n",
    "def mynamefunction(name):\n",
    "    print(name)\n",
    "\n",
    "mynamefunction(\"name\")\n",
    "\n",
    "def mycountryfunction(country = \"Australia\"):\n",
    "    print(\"I live in: \"+ country)\n",
    "\n",
    "mycountryfunction()\n",
    "\n",
    "# recursive functoins eg. 5 + 4 + 3 + 2 + 1, what in the hell\n",
    "def functionrecursion(k):\n",
    "    if (k > 0):\n",
    "        result = k + functionrecursion(k-1)\n",
    "        print(result)\n",
    "    else:\n",
    "        result = 0\n",
    "    return result\n",
    "\n",
    "functionrecursion(5)"
   ],
   "cell_type": "code",
   "metadata": {},
   "execution_count": 11,
   "outputs": [
    {
     "output_type": "stream",
     "name": "stdout",
     "text": [
      "hello from a function\nname\nI live in: Australia\n1\n3\n6\n10\n15\n"
     ]
    },
    {
     "output_type": "execute_result",
     "data": {
      "text/plain": [
       "15"
      ]
     },
     "metadata": {},
     "execution_count": 11
    }
   ]
  },
  {
   "source": [
    "def doubler(x):\n",
    "    return x * 2\n",
    "\n",
    "# python lambda\n",
    "def myfunc(n):\n",
    "    print(n)\n",
    "    return lambda a : a * n\n",
    "\n",
    "\n",
    "# in what world would i ever do this\n",
    "y = myfunc(10)\n",
    "print(doubler(15))\n",
    "\n"
   ],
   "cell_type": "code",
   "metadata": {},
   "execution_count": 1,
   "outputs": [
    {
     "output_type": "stream",
     "name": "stdout",
     "text": [
      "10\n30\n"
     ]
    }
   ]
  },
  {
   "cell_type": "code",
   "execution_count": 2,
   "metadata": {},
   "outputs": [
    {
     "output_type": "stream",
     "name": "stdout",
     "text": [
      "5\nJohn\n36\nhello my name is John\n"
     ]
    }
   ],
   "source": [
    "class MyClass:\n",
    "    x = 5\n",
    "\n",
    "obj1 = MyClass()\n",
    "print(obj1.x)\n",
    "\n",
    "class Person:\n",
    "    def __init__(self, name, age):\n",
    "        self.name = name\n",
    "        self.age = age\n",
    "    def myfunc(self):\n",
    "        print(\"hello my name is \" + self.name)\n",
    "\n",
    "obj2 = Person(\"John\", 36)\n",
    "\n",
    "print(obj2.name)\n",
    "print(obj2.age)\n",
    "obj2.myfunc()\n",
    "\n",
    "obj2.age = 40\n",
    "\n",
    "del obj2"
   ]
  },
  {
   "cell_type": "code",
   "execution_count": 6,
   "metadata": {},
   "outputs": [
    {
     "output_type": "stream",
     "name": "stdout",
     "text": [
      "apple\nbanana\nc\nh\ne\nr\nr\ny\n"
     ]
    }
   ],
   "source": [
    "# return an iterator from a tuple, and print each value\n",
    "mytuple = (\"apple\", \"banana\", \"cherry\")\n",
    "\n",
    "myit = iter(mytuple)\n",
    "\n",
    "print(next(myit))\n",
    "print(next(myit))\n",
    "\n",
    "for x in next(myit):\n",
    "    print(x)\n"
   ]
  },
  {
   "cell_type": "code",
   "execution_count": 10,
   "metadata": {},
   "outputs": [
    {
     "output_type": "stream",
     "name": "stdout",
     "text": [
      "1\n2\n3\n"
     ]
    }
   ],
   "source": [
    "# you can make your class have iteration properties with the iter and next functions\n",
    "class MyNumbers:\n",
    "    def __iter__(self):\n",
    "        self.a = 1\n",
    "        return self\n",
    "    def __next__(self):\n",
    "        x = self.a\n",
    "        self.a += 1\n",
    "        return x\n",
    "\n",
    "myclass = MyNumbers()\n",
    "myiter = iter(myclass)\n",
    "\n",
    "print(next(myiter))\n",
    "print(next(myiter))\n",
    "print(next(myiter))"
   ]
  },
  {
   "cell_type": "code",
   "execution_count": 11,
   "metadata": {},
   "outputs": [
    {
     "output_type": "stream",
     "name": "stdout",
     "text": [
      "30\n{\"name\": \"John\", \"age\": 30, \"city\": \"New York\"}\n"
     ]
    }
   ],
   "source": [
    "import json\n",
    "\n",
    "x = '{ \"name\":\"John\", \"age\":30, \"city\":\"New York\"}'\n",
    "\n",
    "#load json\n",
    "y = json.loads(x)\n",
    "\n",
    "print(y[\"age\"])\n",
    "\n",
    "x = {\n",
    "   \"name\": \"John\",\n",
    "   \"age\": 30,\n",
    "   \"city\": \"New York\"\n",
    "}\n",
    "\n",
    "#dump json, use json.dump to dump to a file instead\n",
    "y = json.dumps(x)\n",
    "\n",
    "print(y)"
   ]
  },
  {
   "cell_type": "code",
   "execution_count": 14,
   "metadata": {},
   "outputs": [
    {
     "output_type": "stream",
     "name": "stdout",
     "text": [
      "<re.Match object; span=(0, 17), match='the rain in spain'>\n"
     ]
    }
   ],
   "source": [
    "import re\n",
    "\n",
    "txt = \"the rain in spain\"\n",
    "\n",
    "x = re.search(\"^the.*spain$\", txt)\n",
    "\n",
    "print(x)"
   ]
  },
  {
   "cell_type": "code",
   "execution_count": 16,
   "metadata": {},
   "outputs": [],
   "source": [
    "# to open file:\n",
    "f = open(\"1-1.py\")\n",
    "# to RWX file, theres also R A W X, Text = T, B = binary\n",
    "f = open(\"1-1.py\", \"r\")\n",
    "\n"
   ]
  }
 ]
}