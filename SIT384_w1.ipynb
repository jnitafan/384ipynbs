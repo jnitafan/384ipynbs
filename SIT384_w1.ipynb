{
  "nbformat": 4,
  "nbformat_minor": 0,
  "metadata": {
    "colab": {
      "name": "SIT384_w1.ipynb",
      "provenance": []
    },
    "kernelspec": {
      "name": "python3",
      "display_name": "Python 3",
      "language": "python"
    }
  },
  "cells": [
    {
      "cell_type": "code",
      "metadata": {
        "colab": {
          "base_uri": "https://localhost:8080/"
        },
        "id": "8iwXanez26WX",
        "outputId": "f3a7f3ed-74e0-42cf-f251-9ee52ddd819d"
      },
      "source": [
        "text = \"Hello World\"\n",
        "text2 = \" and you as well\"\n",
        "print(text + text2)"
      ],
      "execution_count": 2,
      "outputs": [
        {
          "output_type": "stream",
          "name": "stdout",
          "text": [
            "Hello World and you as well\n"
          ]
        }
      ]
    },
    {
      "cell_type": "markdown",
      "metadata": {
        "id": "btFL_oLY3BZH"
      },
      "source": [
        "## Heading 2\n",
        "\n",
        "---\n",
        "\n",
        "\n",
        "Normal Text Here\n",
        "\n",
        "### Heading 3\n",
        "ordered list here\n",
        "1. Fruits\n",
        "  1. Banana\n",
        "  1. Grapes\n",
        "1. Veggies\n",
        "  1. Tomato\n",
        "  1. Brocolli\n",
        "\n",
        "unordered list here\n",
        "- Fruits\n",
        "  - Banana\n",
        "  - Grapes\n",
        "- Veggies\n",
        "  - Tomato\n",
        "  - *Brocolli*"
      ]
    },
    {
      "cell_type": "markdown",
      "metadata": {
        "id": "lBvSDWJU57_B"
      },
      "source": [
        "## Python Syntax\n"
      ]
    },
    {
      "cell_type": "code",
      "metadata": {
        "colab": {
          "base_uri": "https://localhost:8080/"
        },
        "id": "LZcY3DxK8ep1",
        "outputId": "543caed5-e052-4549-d9f6-ba0d751ad54b"
      },
      "source": [
        "# variable types\n",
        "x = float(1)\n",
        "y = str(10.2)\n",
        "z = int(2.5)\n",
        "\n",
        "words = \"hello world\"\n",
        "print(words[0])\n",
        "print(words[2:5])\n",
        "print(len(words))\n",
        "print(words.lower())\n",
        "print(words.upper())"
      ],
      "execution_count": 3,
      "outputs": [
        {
          "output_type": "stream",
          "name": "stdout",
          "text": [
            "h\nllo\n11\nhello world\nHELLO WORLD\n"
          ]
        }
      ]
    },
    {
      "cell_type": "code",
      "metadata": {
        "colab": {
          "base_uri": "https://localhost:8080/"
        },
        "id": "RdiiWWe3Anuk",
        "outputId": "a28dc058-5515-41ba-a239-b10fb49069c1"
      },
      "source": [
        " # list is a collection with is ordered and changeable, allows duplicate entries\n",
        " mylist = [\"apple\", \"banana\", \"cherry\"]\n",
        " # tuples are a collection which is ordered but unchangable, allows duplicate entries\n",
        " mytuple = (\"apple\", \"banana\", \"cherry\")\n",
        " print(len(mytuple))\n",
        " # set is a colection which is unordered and unindexed, no duplicates\n",
        " myset = {\"apple\", \"banana\", \"cherry\"}\n",
        "\n",
        " myset.add(\"blueberry\")\n",
        " print(myset)\n",
        "\n",
        " myset.update([\"blueberry\", \"strawberry\", \"grapes\"])\n",
        " print(myset)\n",
        " \n",
        " myset.remove(\"blueberry\") # error raised if bluebarry doesnt exist\n",
        " myset.discard(\"blueberry\") # error not raised if blueberry doesnt exist\n",
        " print(len(myset))\n",
        " myset.clear()\n",
        " del myset"
      ],
      "execution_count": 4,
      "outputs": [
        {
          "output_type": "stream",
          "name": "stdout",
          "text": [
            "3\n{'blueberry', 'cherry', 'apple', 'banana'}\n{'blueberry', 'grapes', 'apple', 'banana', 'strawberry', 'cherry'}\n5\n"
          ]
        }
      ]
    },
    {
      "cell_type": "code",
      "metadata": {
        "colab": {
          "base_uri": "https://localhost:8080/"
        },
        "id": "qujuoFKzCho0",
        "outputId": "3543abbb-1fb1-424e-f6fc-2601e685bea2"
      },
      "source": [
        "# dictionaries {key : value, key : value, key, value}\n",
        "mydict = {\n",
        "   \"name\": \"John\",\n",
        "   \"id\": 12345,\n",
        "   \"course\": \"s326\"\n",
        "}\n",
        "\n",
        "default_value = \"test\"\n",
        "\n",
        "print(mydict[\"name\"])\n",
        "print(mydict.get(\"name\", default_value)) # if name doesnt exist, return default_value\n",
        "\n",
        "mydict['course'] = \"s334\"\n",
        "print(mydict)\n",
        "\n",
        "print(\"\\nfor i in mydict: \")\n",
        "for i in mydict:\n",
        "  print(i)\n",
        "\n",
        "print(\"\\nfor values[] in mydict: \")\n",
        "for i in mydict:\n",
        "  print(mydict[i])\n",
        "\n",
        "print(\"\\nfor .values in mydict: \")\n",
        "for i in mydict.values(): # or mydict.keys() if needed\n",
        "  print(i)\n",
        "\n",
        "print(\"\\nfor items in mydict: \")\n",
        "for x,y in mydict.items():\n",
        "  print(x,y)\n",
        "\n",
        "print(\"\\nif string \\\"name\\\" in mydict: \")\n",
        "if \"name\" in mydict:\n",
        "  print(\"yes there is a name in mydict\")\n",
        "\n",
        "del mydict"
      ],
      "execution_count": 5,
      "outputs": [
        {
          "output_type": "stream",
          "name": "stdout",
          "text": [
            "John\nJohn\n{'name': 'John', 'id': 12345, 'course': 's334'}\n\nfor i in mydict: \nname\nid\ncourse\n\nfor values[] in mydict: \nJohn\n12345\ns334\n\nfor .values in mydict: \nJohn\n12345\ns334\n\nfor items in mydict: \nname John\nid 12345\ncourse s334\n\nif string \"name\" in mydict: \nyes there is a name in mydict\n"
          ]
        }
      ]
    },
    {
      "cell_type": "code",
      "metadata": {
        "colab": {
          "base_uri": "https://localhost:8080/"
        },
        "id": "OEkAr2xIE9iX",
        "outputId": "e7166148-5abe-4543-ca0e-4350027e748e"
      },
      "source": [
        "# conditions\n",
        "hundred = 100\n",
        "ninetynine = 99\n",
        "\n",
        "if ninetynine > hundred:\n",
        "  print(\"test\")\n",
        "elif ninetynine == hundred:\n",
        "  print(\"test\")\n",
        "else:\n",
        "  print(\"ninetynine less than hundred\")\n",
        "\n",
        "print(\"Hundred\") if hundred > ninetynine else print(\"NinetyNine\") #whyyyy would you ever do this"
      ],
      "execution_count": 6,
      "outputs": [
        {
          "output_type": "stream",
          "name": "stdout",
          "text": [
            "ninetynine less than hundred\nHundred\n"
          ]
        }
      ]
    },
    {
      "cell_type": "code",
      "metadata": {
        "colab": {
          "base_uri": "https://localhost:8080/"
        },
        "id": "Jyr5mSHGG8ob",
        "outputId": "d5bb13f3-815e-4582-f98a-faad1d8a1b65"
      },
      "source": [
        "i = 1\n",
        "while i < 6:\n",
        "  print(i)\n",
        "  i += 1\n",
        "\n",
        "print();\n",
        "\n",
        "i = 1\n",
        "while i < 6:\n",
        "  print(i)\n",
        "  if i == 3:\n",
        "    i += 1\n",
        "    print(\"continued\")\n",
        "    continue #continue skips the rest of the loop and goes back to start\n",
        "    #break to finish the loop\n",
        "  i += 1"
      ],
      "execution_count": 7,
      "outputs": [
        {
          "output_type": "stream",
          "name": "stdout",
          "text": [
            "1\n2\n3\n4\n5\n\n1\n2\n3\ncontinued\n4\n5\n"
          ]
        }
      ]
    }
  ]
}