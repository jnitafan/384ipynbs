{
 "metadata": {
  "language_info": {
   "codemirror_mode": {
    "name": "ipython",
    "version": 3
   },
   "file_extension": ".py",
   "mimetype": "text/x-python",
   "name": "python",
   "nbconvert_exporter": "python",
   "pygments_lexer": "ipython3",
   "version": "3.9.2-final"
  },
  "orig_nbformat": 2,
  "kernelspec": {
   "name": "python3",
   "display_name": "Python 3.9.2 64-bit",
   "metadata": {
    "interpreter": {
     "hash": "63fd5069d213b44bf678585dea6b12cceca9941eaf7f819626cde1f2670de90d"
    }
   }
  }
 },
 "nbformat": 4,
 "nbformat_minor": 2,
 "cells": [
  {
   "source": [
    "## Standard Libraries\n",
    "math - for math\n",
    "\n",
    "urllib - for url Libraries\n",
    "\n",
    "datetime - for dates and times\n",
    "\n",
    "pickle & cPickle - for seralizing and deserializing data structures to save variables\n",
    "\n",
    "os - os dependant functions\n",
    "\n",
    "\n",
    "## Third party packages\n",
    "numpy - scientific computing\n",
    "\n",
    "scipy - core packages\n",
    "\n",
    "pandas - table like data structures from DataFrame objects\n",
    "\n",
    "matplotlib - plotting library\n",
    "\n",
    "BeautifulSoup - HTML & XML parser\n",
    "\n",
    "scikit-learn - machine learning library for python\n",
    "\n",
    "nltk - natural language processessing\n",
    "\n",
    "<code>import my_module</code> to import a library\n"
   ],
   "cell_type": "markdown",
   "metadata": {}
  },
  {
   "cell_type": "code",
   "execution_count": 1,
   "metadata": {},
   "outputs": [
    {
     "output_type": "stream",
     "name": "stdout",
     "text": [
      "e^2 is 7.38905609893065 and log(2) is 0.6931471805599453\n"
     ]
    }
   ],
   "source": [
    "import math\n",
    "\n",
    "x = 2\n",
    "y1 = math.exp(x)\n",
    "y2 = math.log(x)\n",
    "\n",
    "print(\"e^{} is {} and log({}) is {}\".format(x, y1, x, y2))"
   ]
  },
  {
   "cell_type": "code",
   "execution_count": 2,
   "metadata": {},
   "outputs": [
    {
     "output_type": "stream",
     "name": "stdout",
     "text": [
      "11:21:33\nhour  : 11\nminute: 21\nsecond: 33\nmicrosecond: 0\ntzinfo: None\n"
     ]
    }
   ],
   "source": [
    "import datetime\n",
    "\n",
    "t = datetime.time(11, 21, 33)\n",
    "print(t)\n",
    "print('hour  :', t.hour)\n",
    "print('minute:', t.minute)\n",
    "print('second:', t.second)\n",
    "print('microsecond:', t.microsecond)\n",
    "print('tzinfo:', t.tzinfo)"
   ]
  },
  {
   "cell_type": "code",
   "execution_count": 3,
   "metadata": {},
   "outputs": [
    {
     "output_type": "stream",
     "name": "stdout",
     "text": [
      "2021-03-30 14:43:32.381382\n2021-03-31 14:43:32.381382\n"
     ]
    }
   ],
   "source": [
    "today = datetime.datetime.today()\n",
    "print(today)\n",
    "\n",
    "tomorrow = today + datetime.timedelta(days=1)  \n",
    "print(tomorrow)"
   ]
  },
  {
   "cell_type": "code",
   "execution_count": 6,
   "metadata": {},
   "outputs": [
    {
     "output_type": "stream",
     "name": "stdout",
     "text": [
      "ISO     : 2021-03-30 14:44:44.877605\nstrftime: Tue Mar 30 14:44:44 2021\nstrptime: Tue Mar 30 14:44:44 2021\n2017-07-03 00:00:00\n"
     ]
    }
   ],
   "source": [
    "today = datetime.datetime.today()\n",
    "print('ISO     :', today)\n",
    "\n",
    "str_format = \"%a %b %d %H:%M:%S %Y\"\n",
    "s = today.strftime(str_format)\n",
    "print('strftime:', s)\n",
    "\n",
    "d = datetime.datetime.strptime(s, str_format)\n",
    "print('strptime:', d.strftime(str_format))\n",
    "\n",
    "s = \"07/03/2017\"\n",
    "\n",
    "str_format = \"%m/%d/%Y\"\n",
    "\n",
    "d = datetime.datetime.strptime(s, str_format)\n",
    "print(d)\n"
   ]
  },
  {
   "cell_type": "code",
   "execution_count": 1,
   "metadata": {},
   "outputs": [
    {
     "output_type": "stream",
     "name": "stdout",
     "text": [
      "[ 1  7  3  4  0 -5]\n[0 1 2 3 4]\n[2.  2.2 2.4 2.6 2.8]\n[2.   2.25 2.5  2.75 3.  ]\n[ 100.          177.827941    316.22776602  562.34132519 1000.        ]\n[0. 0. 0. 0. 0.]\n sample 5 : [[[1 1 1 1 1]\n  [1 1 1 1 1]\n  [1 1 1 1 1]\n  [1 1 1 1 1]\n  [1 1 1 1 1]]\n\n [[1 1 1 1 1]\n  [1 1 1 1 1]\n  [1 1 1 1 1]\n  [1 1 1 1 1]\n  [1 1 1 1 1]]\n\n [[1 1 1 1 1]\n  [1 1 1 1 1]\n  [1 1 1 1 1]\n  [1 1 1 1 1]\n  [1 1 1 1 1]]\n\n [[1 1 1 1 1]\n  [1 1 1 1 1]\n  [1 1 1 1 1]\n  [1 1 1 1 1]\n  [1 1 1 1 1]]\n\n [[1 1 1 1 1]\n  [1 1 1 1 1]\n  [1 1 1 1 1]\n  [1 1 1 1 1]\n  [1 1 1 1 1]]]\n"
     ]
    },
    {
     "output_type": "execute_result",
     "data": {
      "text/plain": [
       "[None]"
      ]
     },
     "metadata": {},
     "execution_count": 1
    }
   ],
   "source": [
    "import numpy as np\n",
    "\n",
    "x = [1, 7, 3, 4, 0, -5]\n",
    "y = np.array(x)\n",
    "print(y)\n",
    "\n",
    "print(np.array(range(5)))\n",
    "print(np.arange(2,3,0.2))\n",
    "print(np.linspace(2,3,5))\n",
    "print(np.logspace(2,3,5))\n",
    "\n",
    "print(np.zeros(5))\n",
    "[print(\" sample 5 :\", np.ones((5,5,5), dtype=int))]"
   ]
  },
  {
   "cell_type": "code",
   "execution_count": null,
   "metadata": {},
   "outputs": [],
   "source": []
  }
 ]
}